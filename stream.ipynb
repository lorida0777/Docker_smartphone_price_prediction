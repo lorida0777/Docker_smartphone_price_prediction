{
 "cells": [
  {
   "cell_type": "markdown",
   "id": "a3ceb831",
   "metadata": {},
   "source": [
    "# ## 1. Installation des dépendances"
   ]
  },
  {
   "cell_type": "markdown",
   "id": "1d0a95cb",
   "metadata": {},
   "source": [
    "# ## 2. Entraînement du modèle (version notebook)"
   ]
  },
  {
   "cell_type": "code",
   "execution_count": 1,
   "id": "ee1ae342",
   "metadata": {},
   "outputs": [],
   "source": [
    "import pandas as pd\n",
    "import numpy as np\n",
    "from sklearn.ensemble import RandomForestRegressor, GradientBoostingRegressor, ExtraTreesRegressor\n",
    "from sklearn.model_selection import train_test_split, cross_val_score\n",
    "from sklearn.preprocessing import LabelEncoder, RobustScaler\n",
    "from sklearn.metrics import mean_absolute_error, r2_score\n",
    "import plotly.express as px\n",
    "import plotly.graph_objects as go\n",
    "import dis"
   ]
  },
  {
   "cell_type": "code",
   "execution_count": 3,
   "id": "65f56acc",
   "metadata": {},
   "outputs": [
    {
     "data": {
      "text/html": [
       "<div>\n",
       "<style scoped>\n",
       "    .dataframe tbody tr th:only-of-type {\n",
       "        vertical-align: middle;\n",
       "    }\n",
       "\n",
       "    .dataframe tbody tr th {\n",
       "        vertical-align: top;\n",
       "    }\n",
       "\n",
       "    .dataframe thead th {\n",
       "        text-align: right;\n",
       "    }\n",
       "</style>\n",
       "<table border=\"1\" class=\"dataframe\">\n",
       "  <thead>\n",
       "    <tr style=\"text-align: right;\">\n",
       "      <th></th>\n",
       "      <th>0</th>\n",
       "      <th>1</th>\n",
       "      <th>2</th>\n",
       "      <th>3</th>\n",
       "      <th>4</th>\n",
       "      <th>5</th>\n",
       "      <th>6</th>\n",
       "      <th>7</th>\n",
       "      <th>8</th>\n",
       "      <th>9</th>\n",
       "      <th>...</th>\n",
       "      <th>90</th>\n",
       "      <th>91</th>\n",
       "      <th>92</th>\n",
       "      <th>93</th>\n",
       "      <th>94</th>\n",
       "      <th>95</th>\n",
       "      <th>96</th>\n",
       "      <th>97</th>\n",
       "      <th>98</th>\n",
       "      <th>99</th>\n",
       "    </tr>\n",
       "  </thead>\n",
       "  <tbody>\n",
       "    <tr>\n",
       "      <th>Unnamed: 0</th>\n",
       "      <td>0</td>\n",
       "      <td>1</td>\n",
       "      <td>2</td>\n",
       "      <td>3</td>\n",
       "      <td>4</td>\n",
       "      <td>5</td>\n",
       "      <td>6</td>\n",
       "      <td>7</td>\n",
       "      <td>8</td>\n",
       "      <td>9</td>\n",
       "      <td>...</td>\n",
       "      <td>90</td>\n",
       "      <td>91</td>\n",
       "      <td>92</td>\n",
       "      <td>93</td>\n",
       "      <td>94</td>\n",
       "      <td>95</td>\n",
       "      <td>96</td>\n",
       "      <td>97</td>\n",
       "      <td>98</td>\n",
       "      <td>99</td>\n",
       "    </tr>\n",
       "    <tr>\n",
       "      <th>Name</th>\n",
       "      <td>OnePlus 7T Pro McLaren Edition</td>\n",
       "      <td>Realme X2 Pro</td>\n",
       "      <td>iPhone 11 Pro Max</td>\n",
       "      <td>iPhone 11</td>\n",
       "      <td>LG G8X ThinQ</td>\n",
       "      <td>OnePlus 7T</td>\n",
       "      <td>OnePlus 7T Pro</td>\n",
       "      <td>Samsung Galaxy Note 10+</td>\n",
       "      <td>Asus ROG Phone 2</td>\n",
       "      <td>Xiaomi Redmi K20 Pro</td>\n",
       "      <td>...</td>\n",
       "      <td>Samsung Galaxy M40</td>\n",
       "      <td>Redmi Note 7S</td>\n",
       "      <td>Motorola One Vision</td>\n",
       "      <td>Nubia Red Magic 3</td>\n",
       "      <td>Oppo A9</td>\n",
       "      <td>Google Pixel 3a XL</td>\n",
       "      <td>Samsung Galaxy A70</td>\n",
       "      <td>Black Shark 2</td>\n",
       "      <td>OnePlus 7</td>\n",
       "      <td>LG G8s ThinQ</td>\n",
       "    </tr>\n",
       "    <tr>\n",
       "      <th>Brand</th>\n",
       "      <td>OnePlus</td>\n",
       "      <td>Realme</td>\n",
       "      <td>Apple</td>\n",
       "      <td>Apple</td>\n",
       "      <td>LG</td>\n",
       "      <td>OnePlus</td>\n",
       "      <td>OnePlus</td>\n",
       "      <td>Samsung</td>\n",
       "      <td>Asus</td>\n",
       "      <td>Xiaomi</td>\n",
       "      <td>...</td>\n",
       "      <td>Samsung</td>\n",
       "      <td>Xiaomi</td>\n",
       "      <td>Motorola</td>\n",
       "      <td>Nubia</td>\n",
       "      <td>Oppo</td>\n",
       "      <td>Google</td>\n",
       "      <td>Samsung</td>\n",
       "      <td>Black Shark</td>\n",
       "      <td>OnePlus</td>\n",
       "      <td>LG</td>\n",
       "    </tr>\n",
       "    <tr>\n",
       "      <th>Model</th>\n",
       "      <td>7T Pro McLaren Edition</td>\n",
       "      <td>X2 Pro</td>\n",
       "      <td>iPhone 11 Pro Max</td>\n",
       "      <td>iPhone 11</td>\n",
       "      <td>G8X ThinQ</td>\n",
       "      <td>7T</td>\n",
       "      <td>7T Pro</td>\n",
       "      <td>Galaxy Note 10+</td>\n",
       "      <td>ROG Phone 2</td>\n",
       "      <td>Redmi K20 Pro</td>\n",
       "      <td>...</td>\n",
       "      <td>Galaxy M40</td>\n",
       "      <td>Redmi Note 7S</td>\n",
       "      <td>One Vision</td>\n",
       "      <td>Red Magic 3</td>\n",
       "      <td>A9</td>\n",
       "      <td>Pixel 3a XL</td>\n",
       "      <td>Galaxy A70</td>\n",
       "      <td>2</td>\n",
       "      <td>7</td>\n",
       "      <td>G8s ThinQ</td>\n",
       "    </tr>\n",
       "    <tr>\n",
       "      <th>Battery capacity (mAh)</th>\n",
       "      <td>4085</td>\n",
       "      <td>4000</td>\n",
       "      <td>3969</td>\n",
       "      <td>3110</td>\n",
       "      <td>4000</td>\n",
       "      <td>3800</td>\n",
       "      <td>4085</td>\n",
       "      <td>4300</td>\n",
       "      <td>6000</td>\n",
       "      <td>4000</td>\n",
       "      <td>...</td>\n",
       "      <td>3500</td>\n",
       "      <td>4000</td>\n",
       "      <td>3500</td>\n",
       "      <td>5000</td>\n",
       "      <td>4020</td>\n",
       "      <td>3700</td>\n",
       "      <td>4500</td>\n",
       "      <td>4000</td>\n",
       "      <td>3700</td>\n",
       "      <td>3550</td>\n",
       "    </tr>\n",
       "    <tr>\n",
       "      <th>Screen size (inches)</th>\n",
       "      <td>6.67</td>\n",
       "      <td>6.5</td>\n",
       "      <td>6.5</td>\n",
       "      <td>6.1</td>\n",
       "      <td>6.4</td>\n",
       "      <td>6.55</td>\n",
       "      <td>6.67</td>\n",
       "      <td>6.8</td>\n",
       "      <td>6.59</td>\n",
       "      <td>6.39</td>\n",
       "      <td>...</td>\n",
       "      <td>6.3</td>\n",
       "      <td>6.3</td>\n",
       "      <td>6.3</td>\n",
       "      <td>6.65</td>\n",
       "      <td>6.53</td>\n",
       "      <td>6.0</td>\n",
       "      <td>6.7</td>\n",
       "      <td>6.39</td>\n",
       "      <td>6.41</td>\n",
       "      <td>6.2</td>\n",
       "    </tr>\n",
       "    <tr>\n",
       "      <th>Touchscreen</th>\n",
       "      <td>Yes</td>\n",
       "      <td>Yes</td>\n",
       "      <td>Yes</td>\n",
       "      <td>Yes</td>\n",
       "      <td>Yes</td>\n",
       "      <td>Yes</td>\n",
       "      <td>Yes</td>\n",
       "      <td>Yes</td>\n",
       "      <td>Yes</td>\n",
       "      <td>Yes</td>\n",
       "      <td>...</td>\n",
       "      <td>Yes</td>\n",
       "      <td>Yes</td>\n",
       "      <td>Yes</td>\n",
       "      <td>Yes</td>\n",
       "      <td>Yes</td>\n",
       "      <td>Yes</td>\n",
       "      <td>Yes</td>\n",
       "      <td>Yes</td>\n",
       "      <td>Yes</td>\n",
       "      <td>Yes</td>\n",
       "    </tr>\n",
       "    <tr>\n",
       "      <th>Resolution x</th>\n",
       "      <td>1440</td>\n",
       "      <td>1080</td>\n",
       "      <td>1242</td>\n",
       "      <td>828</td>\n",
       "      <td>1080</td>\n",
       "      <td>1080</td>\n",
       "      <td>1440</td>\n",
       "      <td>1440</td>\n",
       "      <td>1080</td>\n",
       "      <td>1080</td>\n",
       "      <td>...</td>\n",
       "      <td>1080</td>\n",
       "      <td>1080</td>\n",
       "      <td>1080</td>\n",
       "      <td>1080</td>\n",
       "      <td>1080</td>\n",
       "      <td>1080</td>\n",
       "      <td>1080</td>\n",
       "      <td>1080</td>\n",
       "      <td>1080</td>\n",
       "      <td>1080</td>\n",
       "    </tr>\n",
       "    <tr>\n",
       "      <th>Resolution y</th>\n",
       "      <td>3120</td>\n",
       "      <td>2400</td>\n",
       "      <td>2688</td>\n",
       "      <td>1792</td>\n",
       "      <td>2340</td>\n",
       "      <td>2400</td>\n",
       "      <td>3120</td>\n",
       "      <td>3040</td>\n",
       "      <td>2340</td>\n",
       "      <td>2340</td>\n",
       "      <td>...</td>\n",
       "      <td>2340</td>\n",
       "      <td>2340</td>\n",
       "      <td>2520</td>\n",
       "      <td>2340</td>\n",
       "      <td>2340</td>\n",
       "      <td>2160</td>\n",
       "      <td>2400</td>\n",
       "      <td>2340</td>\n",
       "      <td>2340</td>\n",
       "      <td>2248</td>\n",
       "    </tr>\n",
       "    <tr>\n",
       "      <th>Processor</th>\n",
       "      <td>8</td>\n",
       "      <td>8</td>\n",
       "      <td>6</td>\n",
       "      <td>6</td>\n",
       "      <td>8</td>\n",
       "      <td>8</td>\n",
       "      <td>8</td>\n",
       "      <td>8</td>\n",
       "      <td>8</td>\n",
       "      <td>8</td>\n",
       "      <td>...</td>\n",
       "      <td>8</td>\n",
       "      <td>8</td>\n",
       "      <td>8</td>\n",
       "      <td>8</td>\n",
       "      <td>8</td>\n",
       "      <td>8</td>\n",
       "      <td>8</td>\n",
       "      <td>8</td>\n",
       "      <td>8</td>\n",
       "      <td>8</td>\n",
       "    </tr>\n",
       "    <tr>\n",
       "      <th>RAM (MB)</th>\n",
       "      <td>12000</td>\n",
       "      <td>6000</td>\n",
       "      <td>4000</td>\n",
       "      <td>4000</td>\n",
       "      <td>6000</td>\n",
       "      <td>8000</td>\n",
       "      <td>8000</td>\n",
       "      <td>12000</td>\n",
       "      <td>8000</td>\n",
       "      <td>6000</td>\n",
       "      <td>...</td>\n",
       "      <td>6000</td>\n",
       "      <td>3000</td>\n",
       "      <td>4000</td>\n",
       "      <td>8000</td>\n",
       "      <td>4000</td>\n",
       "      <td>4000</td>\n",
       "      <td>6000</td>\n",
       "      <td>6000</td>\n",
       "      <td>6000</td>\n",
       "      <td>6000</td>\n",
       "    </tr>\n",
       "    <tr>\n",
       "      <th>Internal storage (GB)</th>\n",
       "      <td>256.0</td>\n",
       "      <td>64.0</td>\n",
       "      <td>64.0</td>\n",
       "      <td>64.0</td>\n",
       "      <td>128.0</td>\n",
       "      <td>128.0</td>\n",
       "      <td>256.0</td>\n",
       "      <td>256.0</td>\n",
       "      <td>128.0</td>\n",
       "      <td>128.0</td>\n",
       "      <td>...</td>\n",
       "      <td>128.0</td>\n",
       "      <td>32.0</td>\n",
       "      <td>128.0</td>\n",
       "      <td>128.0</td>\n",
       "      <td>128.0</td>\n",
       "      <td>64.0</td>\n",
       "      <td>128.0</td>\n",
       "      <td>128.0</td>\n",
       "      <td>128.0</td>\n",
       "      <td>64.0</td>\n",
       "    </tr>\n",
       "    <tr>\n",
       "      <th>Rear camera</th>\n",
       "      <td>48.0</td>\n",
       "      <td>64.0</td>\n",
       "      <td>12.0</td>\n",
       "      <td>12.0</td>\n",
       "      <td>12.0</td>\n",
       "      <td>48.0</td>\n",
       "      <td>48.0</td>\n",
       "      <td>12.0</td>\n",
       "      <td>48.0</td>\n",
       "      <td>48.0</td>\n",
       "      <td>...</td>\n",
       "      <td>32.0</td>\n",
       "      <td>48.0</td>\n",
       "      <td>48.0</td>\n",
       "      <td>48.0</td>\n",
       "      <td>16.0</td>\n",
       "      <td>12.2</td>\n",
       "      <td>32.0</td>\n",
       "      <td>48.0</td>\n",
       "      <td>48.0</td>\n",
       "      <td>12.0</td>\n",
       "    </tr>\n",
       "    <tr>\n",
       "      <th>Front camera</th>\n",
       "      <td>16.0</td>\n",
       "      <td>16.0</td>\n",
       "      <td>12.0</td>\n",
       "      <td>12.0</td>\n",
       "      <td>32.0</td>\n",
       "      <td>16.0</td>\n",
       "      <td>16.0</td>\n",
       "      <td>10.0</td>\n",
       "      <td>24.0</td>\n",
       "      <td>20.0</td>\n",
       "      <td>...</td>\n",
       "      <td>16.0</td>\n",
       "      <td>13.0</td>\n",
       "      <td>25.0</td>\n",
       "      <td>16.0</td>\n",
       "      <td>16.0</td>\n",
       "      <td>8.0</td>\n",
       "      <td>32.0</td>\n",
       "      <td>20.0</td>\n",
       "      <td>16.0</td>\n",
       "      <td>8.0</td>\n",
       "    </tr>\n",
       "    <tr>\n",
       "      <th>Operating system</th>\n",
       "      <td>Android</td>\n",
       "      <td>Android</td>\n",
       "      <td>iOS</td>\n",
       "      <td>iOS</td>\n",
       "      <td>Android</td>\n",
       "      <td>Android</td>\n",
       "      <td>Android</td>\n",
       "      <td>Android</td>\n",
       "      <td>Android</td>\n",
       "      <td>Android</td>\n",
       "      <td>...</td>\n",
       "      <td>Android</td>\n",
       "      <td>Android</td>\n",
       "      <td>Android</td>\n",
       "      <td>Android</td>\n",
       "      <td>Android</td>\n",
       "      <td>Android</td>\n",
       "      <td>Android</td>\n",
       "      <td>Android</td>\n",
       "      <td>Android</td>\n",
       "      <td>Android</td>\n",
       "    </tr>\n",
       "    <tr>\n",
       "      <th>Wi-Fi</th>\n",
       "      <td>Yes</td>\n",
       "      <td>Yes</td>\n",
       "      <td>Yes</td>\n",
       "      <td>Yes</td>\n",
       "      <td>Yes</td>\n",
       "      <td>Yes</td>\n",
       "      <td>Yes</td>\n",
       "      <td>Yes</td>\n",
       "      <td>Yes</td>\n",
       "      <td>Yes</td>\n",
       "      <td>...</td>\n",
       "      <td>Yes</td>\n",
       "      <td>Yes</td>\n",
       "      <td>Yes</td>\n",
       "      <td>Yes</td>\n",
       "      <td>Yes</td>\n",
       "      <td>Yes</td>\n",
       "      <td>Yes</td>\n",
       "      <td>Yes</td>\n",
       "      <td>Yes</td>\n",
       "      <td>Yes</td>\n",
       "    </tr>\n",
       "    <tr>\n",
       "      <th>Bluetooth</th>\n",
       "      <td>Yes</td>\n",
       "      <td>Yes</td>\n",
       "      <td>Yes</td>\n",
       "      <td>Yes</td>\n",
       "      <td>Yes</td>\n",
       "      <td>Yes</td>\n",
       "      <td>Yes</td>\n",
       "      <td>Yes</td>\n",
       "      <td>Yes</td>\n",
       "      <td>Yes</td>\n",
       "      <td>...</td>\n",
       "      <td>Yes</td>\n",
       "      <td>Yes</td>\n",
       "      <td>Yes</td>\n",
       "      <td>Yes</td>\n",
       "      <td>Yes</td>\n",
       "      <td>Yes</td>\n",
       "      <td>Yes</td>\n",
       "      <td>Yes</td>\n",
       "      <td>Yes</td>\n",
       "      <td>Yes</td>\n",
       "    </tr>\n",
       "    <tr>\n",
       "      <th>GPS</th>\n",
       "      <td>Yes</td>\n",
       "      <td>Yes</td>\n",
       "      <td>Yes</td>\n",
       "      <td>Yes</td>\n",
       "      <td>Yes</td>\n",
       "      <td>No</td>\n",
       "      <td>Yes</td>\n",
       "      <td>Yes</td>\n",
       "      <td>Yes</td>\n",
       "      <td>Yes</td>\n",
       "      <td>...</td>\n",
       "      <td>Yes</td>\n",
       "      <td>Yes</td>\n",
       "      <td>Yes</td>\n",
       "      <td>No</td>\n",
       "      <td>No</td>\n",
       "      <td>Yes</td>\n",
       "      <td>Yes</td>\n",
       "      <td>Yes</td>\n",
       "      <td>Yes</td>\n",
       "      <td>Yes</td>\n",
       "    </tr>\n",
       "    <tr>\n",
       "      <th>Number of SIMs</th>\n",
       "      <td>2</td>\n",
       "      <td>2</td>\n",
       "      <td>2</td>\n",
       "      <td>2</td>\n",
       "      <td>1</td>\n",
       "      <td>2</td>\n",
       "      <td>2</td>\n",
       "      <td>2</td>\n",
       "      <td>1</td>\n",
       "      <td>2</td>\n",
       "      <td>...</td>\n",
       "      <td>2</td>\n",
       "      <td>2</td>\n",
       "      <td>2</td>\n",
       "      <td>2</td>\n",
       "      <td>2</td>\n",
       "      <td>1</td>\n",
       "      <td>2</td>\n",
       "      <td>2</td>\n",
       "      <td>2</td>\n",
       "      <td>2</td>\n",
       "    </tr>\n",
       "    <tr>\n",
       "      <th>3G</th>\n",
       "      <td>Yes</td>\n",
       "      <td>Yes</td>\n",
       "      <td>Yes</td>\n",
       "      <td>Yes</td>\n",
       "      <td>No</td>\n",
       "      <td>Yes</td>\n",
       "      <td>Yes</td>\n",
       "      <td>Yes</td>\n",
       "      <td>Yes</td>\n",
       "      <td>No</td>\n",
       "      <td>...</td>\n",
       "      <td>Yes</td>\n",
       "      <td>Yes</td>\n",
       "      <td>Yes</td>\n",
       "      <td>Yes</td>\n",
       "      <td>Yes</td>\n",
       "      <td>Yes</td>\n",
       "      <td>Yes</td>\n",
       "      <td>Yes</td>\n",
       "      <td>Yes</td>\n",
       "      <td>Yes</td>\n",
       "    </tr>\n",
       "    <tr>\n",
       "      <th>4G/ LTE</th>\n",
       "      <td>Yes</td>\n",
       "      <td>Yes</td>\n",
       "      <td>Yes</td>\n",
       "      <td>Yes</td>\n",
       "      <td>No</td>\n",
       "      <td>Yes</td>\n",
       "      <td>Yes</td>\n",
       "      <td>Yes</td>\n",
       "      <td>Yes</td>\n",
       "      <td>No</td>\n",
       "      <td>...</td>\n",
       "      <td>Yes</td>\n",
       "      <td>Yes</td>\n",
       "      <td>Yes</td>\n",
       "      <td>Yes</td>\n",
       "      <td>Yes</td>\n",
       "      <td>Yes</td>\n",
       "      <td>Yes</td>\n",
       "      <td>Yes</td>\n",
       "      <td>Yes</td>\n",
       "      <td>Yes</td>\n",
       "    </tr>\n",
       "    <tr>\n",
       "      <th>Price</th>\n",
       "      <td>58998</td>\n",
       "      <td>27999</td>\n",
       "      <td>106900</td>\n",
       "      <td>62900</td>\n",
       "      <td>49990</td>\n",
       "      <td>34930</td>\n",
       "      <td>52990</td>\n",
       "      <td>79699</td>\n",
       "      <td>37999</td>\n",
       "      <td>23190</td>\n",
       "      <td>...</td>\n",
       "      <td>16879</td>\n",
       "      <td>8649</td>\n",
       "      <td>13690</td>\n",
       "      <td>35999</td>\n",
       "      <td>11990</td>\n",
       "      <td>34999</td>\n",
       "      <td>22299</td>\n",
       "      <td>29999</td>\n",
       "      <td>29999</td>\n",
       "      <td>39990</td>\n",
       "    </tr>\n",
       "  </tbody>\n",
       "</table>\n",
       "<p>22 rows × 100 columns</p>\n",
       "</div>"
      ],
      "text/plain": [
       "                                                    0              1   \\\n",
       "Unnamed: 0                                           0              1   \n",
       "Name                    OnePlus 7T Pro McLaren Edition  Realme X2 Pro   \n",
       "Brand                                          OnePlus         Realme   \n",
       "Model                           7T Pro McLaren Edition         X2 Pro   \n",
       "Battery capacity (mAh)                            4085           4000   \n",
       "Screen size (inches)                              6.67            6.5   \n",
       "Touchscreen                                        Yes            Yes   \n",
       "Resolution x                                      1440           1080   \n",
       "Resolution y                                      3120           2400   \n",
       "Processor                                            8              8   \n",
       "RAM (MB)                                         12000           6000   \n",
       "Internal storage (GB)                            256.0           64.0   \n",
       "Rear camera                                       48.0           64.0   \n",
       "Front camera                                      16.0           16.0   \n",
       "Operating system                               Android        Android   \n",
       "Wi-Fi                                              Yes            Yes   \n",
       "Bluetooth                                          Yes            Yes   \n",
       "GPS                                                Yes            Yes   \n",
       "Number of SIMs                                       2              2   \n",
       "3G                                                 Yes            Yes   \n",
       "4G/ LTE                                            Yes            Yes   \n",
       "Price                                            58998          27999   \n",
       "\n",
       "                                       2          3             4   \\\n",
       "Unnamed: 0                              2          3             4   \n",
       "Name                    iPhone 11 Pro Max  iPhone 11  LG G8X ThinQ   \n",
       "Brand                               Apple      Apple            LG   \n",
       "Model                   iPhone 11 Pro Max  iPhone 11     G8X ThinQ   \n",
       "Battery capacity (mAh)               3969       3110          4000   \n",
       "Screen size (inches)                  6.5        6.1           6.4   \n",
       "Touchscreen                           Yes        Yes           Yes   \n",
       "Resolution x                         1242        828          1080   \n",
       "Resolution y                         2688       1792          2340   \n",
       "Processor                               6          6             8   \n",
       "RAM (MB)                             4000       4000          6000   \n",
       "Internal storage (GB)                64.0       64.0         128.0   \n",
       "Rear camera                          12.0       12.0          12.0   \n",
       "Front camera                         12.0       12.0          32.0   \n",
       "Operating system                      iOS        iOS       Android   \n",
       "Wi-Fi                                 Yes        Yes           Yes   \n",
       "Bluetooth                             Yes        Yes           Yes   \n",
       "GPS                                   Yes        Yes           Yes   \n",
       "Number of SIMs                          2          2             1   \n",
       "3G                                    Yes        Yes            No   \n",
       "4G/ LTE                               Yes        Yes            No   \n",
       "Price                              106900      62900         49990   \n",
       "\n",
       "                                5               6                        7   \\\n",
       "Unnamed: 0                       5               6                        7   \n",
       "Name                    OnePlus 7T  OnePlus 7T Pro  Samsung Galaxy Note 10+   \n",
       "Brand                      OnePlus         OnePlus                  Samsung   \n",
       "Model                           7T          7T Pro          Galaxy Note 10+   \n",
       "Battery capacity (mAh)        3800            4085                     4300   \n",
       "Screen size (inches)          6.55            6.67                      6.8   \n",
       "Touchscreen                    Yes             Yes                      Yes   \n",
       "Resolution x                  1080            1440                     1440   \n",
       "Resolution y                  2400            3120                     3040   \n",
       "Processor                        8               8                        8   \n",
       "RAM (MB)                      8000            8000                    12000   \n",
       "Internal storage (GB)        128.0           256.0                    256.0   \n",
       "Rear camera                   48.0            48.0                     12.0   \n",
       "Front camera                  16.0            16.0                     10.0   \n",
       "Operating system           Android         Android                  Android   \n",
       "Wi-Fi                          Yes             Yes                      Yes   \n",
       "Bluetooth                      Yes             Yes                      Yes   \n",
       "GPS                             No             Yes                      Yes   \n",
       "Number of SIMs                   2               2                        2   \n",
       "3G                             Yes             Yes                      Yes   \n",
       "4G/ LTE                        Yes             Yes                      Yes   \n",
       "Price                        34930           52990                    79699   \n",
       "\n",
       "                                      8                     9   ...  \\\n",
       "Unnamed: 0                             8                     9  ...   \n",
       "Name                    Asus ROG Phone 2  Xiaomi Redmi K20 Pro  ...   \n",
       "Brand                               Asus                Xiaomi  ...   \n",
       "Model                        ROG Phone 2         Redmi K20 Pro  ...   \n",
       "Battery capacity (mAh)              6000                  4000  ...   \n",
       "Screen size (inches)                6.59                  6.39  ...   \n",
       "Touchscreen                          Yes                   Yes  ...   \n",
       "Resolution x                        1080                  1080  ...   \n",
       "Resolution y                        2340                  2340  ...   \n",
       "Processor                              8                     8  ...   \n",
       "RAM (MB)                            8000                  6000  ...   \n",
       "Internal storage (GB)              128.0                 128.0  ...   \n",
       "Rear camera                         48.0                  48.0  ...   \n",
       "Front camera                        24.0                  20.0  ...   \n",
       "Operating system                 Android               Android  ...   \n",
       "Wi-Fi                                Yes                   Yes  ...   \n",
       "Bluetooth                            Yes                   Yes  ...   \n",
       "GPS                                  Yes                   Yes  ...   \n",
       "Number of SIMs                         1                     2  ...   \n",
       "3G                                   Yes                    No  ...   \n",
       "4G/ LTE                              Yes                    No  ...   \n",
       "Price                              37999                 23190  ...   \n",
       "\n",
       "                                        90             91  \\\n",
       "Unnamed: 0                              90             91   \n",
       "Name                    Samsung Galaxy M40  Redmi Note 7S   \n",
       "Brand                              Samsung         Xiaomi   \n",
       "Model                           Galaxy M40  Redmi Note 7S   \n",
       "Battery capacity (mAh)                3500           4000   \n",
       "Screen size (inches)                   6.3            6.3   \n",
       "Touchscreen                            Yes            Yes   \n",
       "Resolution x                          1080           1080   \n",
       "Resolution y                          2340           2340   \n",
       "Processor                                8              8   \n",
       "RAM (MB)                              6000           3000   \n",
       "Internal storage (GB)                128.0           32.0   \n",
       "Rear camera                           32.0           48.0   \n",
       "Front camera                          16.0           13.0   \n",
       "Operating system                   Android        Android   \n",
       "Wi-Fi                                  Yes            Yes   \n",
       "Bluetooth                              Yes            Yes   \n",
       "GPS                                    Yes            Yes   \n",
       "Number of SIMs                           2              2   \n",
       "3G                                     Yes            Yes   \n",
       "4G/ LTE                                Yes            Yes   \n",
       "Price                                16879           8649   \n",
       "\n",
       "                                         92                 93       94  \\\n",
       "Unnamed: 0                               92                 93       94   \n",
       "Name                    Motorola One Vision  Nubia Red Magic 3  Oppo A9   \n",
       "Brand                              Motorola              Nubia     Oppo   \n",
       "Model                            One Vision        Red Magic 3       A9   \n",
       "Battery capacity (mAh)                 3500               5000     4020   \n",
       "Screen size (inches)                    6.3               6.65     6.53   \n",
       "Touchscreen                             Yes                Yes      Yes   \n",
       "Resolution x                           1080               1080     1080   \n",
       "Resolution y                           2520               2340     2340   \n",
       "Processor                                 8                  8        8   \n",
       "RAM (MB)                               4000               8000     4000   \n",
       "Internal storage (GB)                 128.0              128.0    128.0   \n",
       "Rear camera                            48.0               48.0     16.0   \n",
       "Front camera                           25.0               16.0     16.0   \n",
       "Operating system                    Android            Android  Android   \n",
       "Wi-Fi                                   Yes                Yes      Yes   \n",
       "Bluetooth                               Yes                Yes      Yes   \n",
       "GPS                                     Yes                 No       No   \n",
       "Number of SIMs                            2                  2        2   \n",
       "3G                                      Yes                Yes      Yes   \n",
       "4G/ LTE                                 Yes                Yes      Yes   \n",
       "Price                                 13690              35999    11990   \n",
       "\n",
       "                                        95                  96             97  \\\n",
       "Unnamed: 0                              95                  96             97   \n",
       "Name                    Google Pixel 3a XL  Samsung Galaxy A70  Black Shark 2   \n",
       "Brand                               Google             Samsung    Black Shark   \n",
       "Model                          Pixel 3a XL          Galaxy A70              2   \n",
       "Battery capacity (mAh)                3700                4500           4000   \n",
       "Screen size (inches)                   6.0                 6.7           6.39   \n",
       "Touchscreen                            Yes                 Yes            Yes   \n",
       "Resolution x                          1080                1080           1080   \n",
       "Resolution y                          2160                2400           2340   \n",
       "Processor                                8                   8              8   \n",
       "RAM (MB)                              4000                6000           6000   \n",
       "Internal storage (GB)                 64.0               128.0          128.0   \n",
       "Rear camera                           12.2                32.0           48.0   \n",
       "Front camera                           8.0                32.0           20.0   \n",
       "Operating system                   Android             Android        Android   \n",
       "Wi-Fi                                  Yes                 Yes            Yes   \n",
       "Bluetooth                              Yes                 Yes            Yes   \n",
       "GPS                                    Yes                 Yes            Yes   \n",
       "Number of SIMs                           1                   2              2   \n",
       "3G                                     Yes                 Yes            Yes   \n",
       "4G/ LTE                                Yes                 Yes            Yes   \n",
       "Price                                34999               22299          29999   \n",
       "\n",
       "                               98            99  \n",
       "Unnamed: 0                     98            99  \n",
       "Name                    OnePlus 7  LG G8s ThinQ  \n",
       "Brand                     OnePlus            LG  \n",
       "Model                           7     G8s ThinQ  \n",
       "Battery capacity (mAh)       3700          3550  \n",
       "Screen size (inches)         6.41           6.2  \n",
       "Touchscreen                   Yes           Yes  \n",
       "Resolution x                 1080          1080  \n",
       "Resolution y                 2340          2248  \n",
       "Processor                       8             8  \n",
       "RAM (MB)                     6000          6000  \n",
       "Internal storage (GB)       128.0          64.0  \n",
       "Rear camera                  48.0          12.0  \n",
       "Front camera                 16.0           8.0  \n",
       "Operating system          Android       Android  \n",
       "Wi-Fi                         Yes           Yes  \n",
       "Bluetooth                     Yes           Yes  \n",
       "GPS                           Yes           Yes  \n",
       "Number of SIMs                  2             2  \n",
       "3G                            Yes           Yes  \n",
       "4G/ LTE                       Yes           Yes  \n",
       "Price                       29999         39990  \n",
       "\n",
       "[22 rows x 100 columns]"
      ]
     },
     "execution_count": 3,
     "metadata": {},
     "output_type": "execute_result"
    }
   ],
   "source": [
    "df = pd.read_csv('ndtv_data_final.csv')\n",
    "df.head(100).T"
   ]
  },
  {
   "cell_type": "code",
   "execution_count": 3,
   "id": "e9b76896",
   "metadata": {},
   "outputs": [],
   "source": [
    "# Génération de données synthétiques si vous n'avez pas le CSV\n",
    "def generate_sample_data():\n",
    "    brands = ['Apple', 'Samsung', 'Xiaomi', 'OnePlus', 'Oppo']\n",
    "    processors = ['A15', 'Snapdragon 888', 'Exynos 2100', 'Dimensity 1200', 'Helio G95']\n",
    "    \n",
    "    np.random.seed(42)\n",
    "    n_samples = 500\n",
    "    \n",
    "    data = {\n",
    "        'Brand': np.random.choice(brands, n_samples),\n",
    "        'Battery capacity (mAh)': np.random.randint(3000, 6000, n_samples),\n",
    "        'Screen size (inches)': np.round(np.random.uniform(5.0, 7.0, n_samples), 1),\n",
    "        'Processor': np.random.choice(processors, n_samples),\n",
    "        'RAM (MB)': np.random.choice([4000, 6000, 8000, 12000], n_samples),\n",
    "        'Internal storage (GB)': np.random.choice([64, 128, 256, 512], n_samples),\n",
    "        'Rear camera': np.random.randint(12, 108, n_samples),\n",
    "        'Front camera': np.random.randint(8, 32, n_samples),\n",
    "    }\n",
    "    \n",
    "    # Prix simulé avec une formule réaliste\n",
    "    data['Price'] = (\n",
    "        (data['RAM (MB)'] * 0.002) +\n",
    "        (data['Internal storage (GB)'] * 1.5) +\n",
    "        (data['Rear camera'] * 5) +\n",
    "        (data['Battery capacity (mAh)'] * 0.03) +\n",
    "        (data['Screen size (inches)'] * 50) +\n",
    "        np.where(data['Brand'] == 'Apple', 300, \n",
    "                np.where(data['Brand'] == 'Samsung', 150, 50))\n",
    "    ) * (1 + np.random.normal(0, 0.1, n_samples))\n",
    "    \n",
    "    return pd.DataFrame(data)"
   ]
  },
  {
   "cell_type": "code",
   "execution_count": 4,
   "id": "c0a4e47d",
   "metadata": {},
   "outputs": [
    {
     "name": "stdout",
     "output_type": "stream",
     "text": [
      "Modèle entraîné avec R² = 0.995\n"
     ]
    }
   ],
   "source": [
    "# Entraînement complet\n",
    "df = generate_sample_data()\n",
    "\n",
    "# Feature engineering\n",
    "df['Camera_Total'] = df['Rear camera'] + df['Front camera']\n",
    "df['RAM_GB'] = df['RAM (MB)'] / 1000\n",
    "df['Price_per_GB'] = np.where(df['Internal storage (GB)'] > 0,\n",
    "                            df['Price'] / df['Internal storage (GB)'],\n",
    "                            df['Price'].mean())\n",
    "df['Is_Premium'] = df['Brand'].isin(['Apple', 'Samsung', 'OnePlus']).astype(int)\n",
    "df['LogPrice'] = np.log1p(df['Price'])\n",
    "\n",
    "features = ['Brand', 'Battery capacity (mAh)', 'Screen size (inches)', 'Processor',\n",
    "            'RAM (MB)', 'Internal storage (GB)', 'Rear camera', 'Front camera',\n",
    "            'Price_per_GB', 'Camera_Total', 'RAM_GB', 'Is_Premium']\n",
    "\n",
    "X = df[features]\n",
    "y = df['LogPrice']\n",
    "\n",
    "# Encodage\n",
    "brand_encoder = LabelEncoder()\n",
    "processor_encoder = LabelEncoder()\n",
    "X.loc[:, 'Brand'] = brand_encoder.fit_transform(X['Brand'])\n",
    "X.loc[:, 'Processor'] = processor_encoder.fit_transform(X['Processor'])\n",
    "\n",
    "# Normalisation\n",
    "scaler = RobustScaler()\n",
    "X_scaled = scaler.fit_transform(X)\n",
    "\n",
    "# Entraînement\n",
    "model = RandomForestRegressor(n_estimators=100, random_state=42)\n",
    "model.fit(X_scaled, y)\n",
    "\n",
    "# Evaluation\n",
    "y_pred = np.expm1(model.predict(X_scaled))\n",
    "r2 = r2_score(np.expm1(y), y_pred)\n",
    "print(f\"Modèle entraîné avec R² = {r2:.3f}\")"
   ]
  },
  {
   "cell_type": "markdown",
   "id": "f6c27763",
   "metadata": {},
   "source": [
    "# ## 3. Interface de prédiction interactive"
   ]
  },
  {
   "cell_type": "code",
   "execution_count": 12,
   "id": "e08bf147",
   "metadata": {},
   "outputs": [
    {
     "data": {
      "application/vnd.jupyter.widget-view+json": {
       "model_id": "9e88ce52bc9b44d490fac235885db2b4",
       "version_major": 2,
       "version_minor": 0
      },
      "text/plain": [
       "interactive(children=(Dropdown(description='Marque:', options=('OnePlus', 'Oppo', 'Xiaomi', 'Samsung', 'Apple'…"
      ]
     },
     "metadata": {},
     "output_type": "display_data"
    },
    {
     "data": {
      "text/plain": [
       "<function __main__.predict_phone_price(brand, processor, battery, screen_size, ram, storage, rear_cam, front_cam)>"
      ]
     },
     "execution_count": 12,
     "metadata": {},
     "output_type": "execute_result"
    }
   ],
   "source": [
    "from ipywidgets import interact, widgets\n",
    "from IPython.display import display, HTML\n",
    "\n",
    "# Fonction de prédiction\n",
    "def predict_phone_price(brand, processor, battery, screen_size, ram, storage, rear_cam, front_cam):\n",
    "    try:\n",
    "        # Préparation des données\n",
    "        input_data = pd.DataFrame({\n",
    "            'Brand': [brand],\n",
    "            'Processor': [processor],\n",
    "            'Battery capacity (mAh)': [battery],\n",
    "            'Screen size (inches)': [screen_size],\n",
    "            'RAM (MB)': [ram * 1000],\n",
    "            'Internal storage (GB)': [storage],\n",
    "            'Rear camera': [rear_cam],\n",
    "            'Front camera': [front_cam],\n",
    "            'Price_per_GB': [df['Price'].mean() / storage],\n",
    "            'Camera_Total': [rear_cam + front_cam],\n",
    "            'RAM_GB': [ram],\n",
    "            'Is_Premium': [int(brand in ['Apple', 'Samsung', 'OnePlus'])]\n",
    "        })\n",
    "        \n",
    "        # Transformation\n",
    "        input_data['Brand'] = brand_encoder.transform(input_data['Brand'])\n",
    "        input_data['Processor'] = processor_encoder.transform(input_data['Processor'])\n",
    "        input_scaled = scaler.transform(input_data[features])\n",
    "        \n",
    "        # Prédiction\n",
    "        predicted_price = np.expm1(model.predict(input_scaled)[0])\n",
    "        similar_phones = df[\n",
    "            (df['Internal storage (GB)'].between(storage * 0.8, storage * 1.2)) &\n",
    "            (df['RAM (MB)'].between(ram * 800, ram * 1200))\n",
    "        ]\n",
    "        avg_price = similar_phones['Price'].mean() if not similar_phones.empty else predicted_price\n",
    "        \n",
    "        # Affichage\n",
    "        display(HTML(f\"\"\"\n",
    "        <style>\n",
    "        .prediction-box {{\n",
    "            border: 2px solid #1f77b4;\n",
    "            border-radius: 10px;\n",
    "            padding: 20px;\n",
    "            margin: 10px 0;\n",
    "            background-color: #f0f8ff;\n",
    "        }}\n",
    "        .price {{\n",
    "            font-size: 24px;\n",
    "            font-weight: bold;\n",
    "            color: #1f77b4;\n",
    "        }}\n",
    "        </style>\n",
    "        <div class=\"prediction-box\">\n",
    "            <h3>Résultats de prédiction</h3>\n",
    "            <div class=\"price\">Prix estimé: ${predicted_price:,.2f}</div>\n",
    "            <p>Prix moyen pour téléphones similaires: ${avg_price:,.2f}</p>\n",
    "            <p>Différence: {((predicted_price - avg_price)/avg_price*100):.1f}%</p>\n",
    "        </div>\n",
    "        \"\"\"))\n",
    "        \n",
    "        # Visualisations\n",
    "        fig = go.Figure()\n",
    "        fig.add_trace(go.Bar(\n",
    "            x=['Votre téléphone', 'Moyenne similaire'],\n",
    "            y=[predicted_price, avg_price],\n",
    "            marker_color=['#1f77b4', '#ff7f0e']\n",
    "        ))\n",
    "        fig.update_layout(title='Comparaison de prix', yaxis_title='Prix (USD)')\n",
    "        fig.show()\n",
    "        \n",
    "    except Exception as e:\n",
    "        display(HTML(f\"<div style='color:red;'>Erreur: {str(e)}</div>\"))\n",
    "\n",
    "# Interface interactive\n",
    "interact(\n",
    "    predict_phone_price,\n",
    "    brand=widgets.Dropdown(options=df['Brand'].unique(), description='Marque:'),\n",
    "    processor=widgets.Dropdown(options=df['Processor'].unique(), description='Processeur:'),\n",
    "    battery=widgets.IntSlider(min=1000, max=6000, step=100, value=4000, description='Batterie (mAh):'),\n",
    "    screen_size=widgets.FloatSlider(min=4.0, max=7.0, step=0.1, value=6.0, description='Écran (pouces):'),\n",
    "    ram=widgets.IntSlider(min=2, max=12, step=2, value=4, description='RAM (GB):'),\n",
    "    storage=widgets.IntSlider(min=32, max=512, step=32, value=64, description='Stockage (GB):'),\n",
    "    rear_cam=widgets.IntSlider(min=8, max=108, step=4, value=48, description='Caméra arrière (MP):'),\n",
    "    front_cam=widgets.IntSlider(min=2, max=32, step=2, value=12, description='Caméra avant (MP):')\n",
    ")"
   ]
  },
  {
   "cell_type": "markdown",
   "id": "0a4bf58d",
   "metadata": {},
   "source": [
    "# ## 4. Visualisations complémentaires"
   ]
  },
  {
   "cell_type": "code",
   "execution_count": 13,
   "id": "b67264cd",
   "metadata": {},
   "outputs": [
    {
     "data": {
      "application/vnd.plotly.v1+json": {
       "config": {
        "plotlyServerURL": "https://plot.ly"
       },
       "data": [
        {
         "fill": "toself",
         "name": "Votre téléphone",
         "r": [
          0.9,
          0.9285714285714286,
          0.75,
          0.5,
          0.78125,
          0.5
         ],
         "theta": [
          "Batterie",
          "Écran",
          "RAM",
          "Stockage",
          "Cam. Arrière",
          "Cam. Avant"
         ],
         "type": "scatterpolar"
        },
        {
         "fill": "toself",
         "name": "Moyenne Samsung",
         "r": [
          0.8954168421052631,
          0.8572932330827069,
          0.9605263157894737,
          0.9,
          0.9600328947368421,
          0.6542763157894737
         ],
         "theta": [
          "Batterie",
          "Écran",
          "RAM",
          "Stockage",
          "Cam. Arrière",
          "Cam. Avant"
         ],
         "type": "scatterpolar"
        }
       ],
       "layout": {
        "polar": {
         "radialaxis": {
          "range": [
           0,
           1.2
          ],
          "visible": true
         }
        },
        "template": {
         "data": {
          "bar": [
           {
            "error_x": {
             "color": "#2a3f5f"
            },
            "error_y": {
             "color": "#2a3f5f"
            },
            "marker": {
             "line": {
              "color": "white",
              "width": 0.5
             },
             "pattern": {
              "fillmode": "overlay",
              "size": 10,
              "solidity": 0.2
             }
            },
            "type": "bar"
           }
          ],
          "barpolar": [
           {
            "marker": {
             "line": {
              "color": "white",
              "width": 0.5
             },
             "pattern": {
              "fillmode": "overlay",
              "size": 10,
              "solidity": 0.2
             }
            },
            "type": "barpolar"
           }
          ],
          "carpet": [
           {
            "aaxis": {
             "endlinecolor": "#2a3f5f",
             "gridcolor": "#C8D4E3",
             "linecolor": "#C8D4E3",
             "minorgridcolor": "#C8D4E3",
             "startlinecolor": "#2a3f5f"
            },
            "baxis": {
             "endlinecolor": "#2a3f5f",
             "gridcolor": "#C8D4E3",
             "linecolor": "#C8D4E3",
             "minorgridcolor": "#C8D4E3",
             "startlinecolor": "#2a3f5f"
            },
            "type": "carpet"
           }
          ],
          "choropleth": [
           {
            "colorbar": {
             "outlinewidth": 0,
             "ticks": ""
            },
            "type": "choropleth"
           }
          ],
          "contour": [
           {
            "colorbar": {
             "outlinewidth": 0,
             "ticks": ""
            },
            "colorscale": [
             [
              0,
              "#0d0887"
             ],
             [
              0.1111111111111111,
              "#46039f"
             ],
             [
              0.2222222222222222,
              "#7201a8"
             ],
             [
              0.3333333333333333,
              "#9c179e"
             ],
             [
              0.4444444444444444,
              "#bd3786"
             ],
             [
              0.5555555555555556,
              "#d8576b"
             ],
             [
              0.6666666666666666,
              "#ed7953"
             ],
             [
              0.7777777777777778,
              "#fb9f3a"
             ],
             [
              0.8888888888888888,
              "#fdca26"
             ],
             [
              1,
              "#f0f921"
             ]
            ],
            "type": "contour"
           }
          ],
          "contourcarpet": [
           {
            "colorbar": {
             "outlinewidth": 0,
             "ticks": ""
            },
            "type": "contourcarpet"
           }
          ],
          "heatmap": [
           {
            "colorbar": {
             "outlinewidth": 0,
             "ticks": ""
            },
            "colorscale": [
             [
              0,
              "#0d0887"
             ],
             [
              0.1111111111111111,
              "#46039f"
             ],
             [
              0.2222222222222222,
              "#7201a8"
             ],
             [
              0.3333333333333333,
              "#9c179e"
             ],
             [
              0.4444444444444444,
              "#bd3786"
             ],
             [
              0.5555555555555556,
              "#d8576b"
             ],
             [
              0.6666666666666666,
              "#ed7953"
             ],
             [
              0.7777777777777778,
              "#fb9f3a"
             ],
             [
              0.8888888888888888,
              "#fdca26"
             ],
             [
              1,
              "#f0f921"
             ]
            ],
            "type": "heatmap"
           }
          ],
          "histogram": [
           {
            "marker": {
             "pattern": {
              "fillmode": "overlay",
              "size": 10,
              "solidity": 0.2
             }
            },
            "type": "histogram"
           }
          ],
          "histogram2d": [
           {
            "colorbar": {
             "outlinewidth": 0,
             "ticks": ""
            },
            "colorscale": [
             [
              0,
              "#0d0887"
             ],
             [
              0.1111111111111111,
              "#46039f"
             ],
             [
              0.2222222222222222,
              "#7201a8"
             ],
             [
              0.3333333333333333,
              "#9c179e"
             ],
             [
              0.4444444444444444,
              "#bd3786"
             ],
             [
              0.5555555555555556,
              "#d8576b"
             ],
             [
              0.6666666666666666,
              "#ed7953"
             ],
             [
              0.7777777777777778,
              "#fb9f3a"
             ],
             [
              0.8888888888888888,
              "#fdca26"
             ],
             [
              1,
              "#f0f921"
             ]
            ],
            "type": "histogram2d"
           }
          ],
          "histogram2dcontour": [
           {
            "colorbar": {
             "outlinewidth": 0,
             "ticks": ""
            },
            "colorscale": [
             [
              0,
              "#0d0887"
             ],
             [
              0.1111111111111111,
              "#46039f"
             ],
             [
              0.2222222222222222,
              "#7201a8"
             ],
             [
              0.3333333333333333,
              "#9c179e"
             ],
             [
              0.4444444444444444,
              "#bd3786"
             ],
             [
              0.5555555555555556,
              "#d8576b"
             ],
             [
              0.6666666666666666,
              "#ed7953"
             ],
             [
              0.7777777777777778,
              "#fb9f3a"
             ],
             [
              0.8888888888888888,
              "#fdca26"
             ],
             [
              1,
              "#f0f921"
             ]
            ],
            "type": "histogram2dcontour"
           }
          ],
          "mesh3d": [
           {
            "colorbar": {
             "outlinewidth": 0,
             "ticks": ""
            },
            "type": "mesh3d"
           }
          ],
          "parcoords": [
           {
            "line": {
             "colorbar": {
              "outlinewidth": 0,
              "ticks": ""
             }
            },
            "type": "parcoords"
           }
          ],
          "pie": [
           {
            "automargin": true,
            "type": "pie"
           }
          ],
          "scatter": [
           {
            "fillpattern": {
             "fillmode": "overlay",
             "size": 10,
             "solidity": 0.2
            },
            "type": "scatter"
           }
          ],
          "scatter3d": [
           {
            "line": {
             "colorbar": {
              "outlinewidth": 0,
              "ticks": ""
             }
            },
            "marker": {
             "colorbar": {
              "outlinewidth": 0,
              "ticks": ""
             }
            },
            "type": "scatter3d"
           }
          ],
          "scattercarpet": [
           {
            "marker": {
             "colorbar": {
              "outlinewidth": 0,
              "ticks": ""
             }
            },
            "type": "scattercarpet"
           }
          ],
          "scattergeo": [
           {
            "marker": {
             "colorbar": {
              "outlinewidth": 0,
              "ticks": ""
             }
            },
            "type": "scattergeo"
           }
          ],
          "scattergl": [
           {
            "marker": {
             "colorbar": {
              "outlinewidth": 0,
              "ticks": ""
             }
            },
            "type": "scattergl"
           }
          ],
          "scattermap": [
           {
            "marker": {
             "colorbar": {
              "outlinewidth": 0,
              "ticks": ""
             }
            },
            "type": "scattermap"
           }
          ],
          "scattermapbox": [
           {
            "marker": {
             "colorbar": {
              "outlinewidth": 0,
              "ticks": ""
             }
            },
            "type": "scattermapbox"
           }
          ],
          "scatterpolar": [
           {
            "marker": {
             "colorbar": {
              "outlinewidth": 0,
              "ticks": ""
             }
            },
            "type": "scatterpolar"
           }
          ],
          "scatterpolargl": [
           {
            "marker": {
             "colorbar": {
              "outlinewidth": 0,
              "ticks": ""
             }
            },
            "type": "scatterpolargl"
           }
          ],
          "scatterternary": [
           {
            "marker": {
             "colorbar": {
              "outlinewidth": 0,
              "ticks": ""
             }
            },
            "type": "scatterternary"
           }
          ],
          "surface": [
           {
            "colorbar": {
             "outlinewidth": 0,
             "ticks": ""
            },
            "colorscale": [
             [
              0,
              "#0d0887"
             ],
             [
              0.1111111111111111,
              "#46039f"
             ],
             [
              0.2222222222222222,
              "#7201a8"
             ],
             [
              0.3333333333333333,
              "#9c179e"
             ],
             [
              0.4444444444444444,
              "#bd3786"
             ],
             [
              0.5555555555555556,
              "#d8576b"
             ],
             [
              0.6666666666666666,
              "#ed7953"
             ],
             [
              0.7777777777777778,
              "#fb9f3a"
             ],
             [
              0.8888888888888888,
              "#fdca26"
             ],
             [
              1,
              "#f0f921"
             ]
            ],
            "type": "surface"
           }
          ],
          "table": [
           {
            "cells": {
             "fill": {
              "color": "#EBF0F8"
             },
             "line": {
              "color": "white"
             }
            },
            "header": {
             "fill": {
              "color": "#C8D4E3"
             },
             "line": {
              "color": "white"
             }
            },
            "type": "table"
           }
          ]
         },
         "layout": {
          "annotationdefaults": {
           "arrowcolor": "#2a3f5f",
           "arrowhead": 0,
           "arrowwidth": 1
          },
          "autotypenumbers": "strict",
          "coloraxis": {
           "colorbar": {
            "outlinewidth": 0,
            "ticks": ""
           }
          },
          "colorscale": {
           "diverging": [
            [
             0,
             "#8e0152"
            ],
            [
             0.1,
             "#c51b7d"
            ],
            [
             0.2,
             "#de77ae"
            ],
            [
             0.3,
             "#f1b6da"
            ],
            [
             0.4,
             "#fde0ef"
            ],
            [
             0.5,
             "#f7f7f7"
            ],
            [
             0.6,
             "#e6f5d0"
            ],
            [
             0.7,
             "#b8e186"
            ],
            [
             0.8,
             "#7fbc41"
            ],
            [
             0.9,
             "#4d9221"
            ],
            [
             1,
             "#276419"
            ]
           ],
           "sequential": [
            [
             0,
             "#0d0887"
            ],
            [
             0.1111111111111111,
             "#46039f"
            ],
            [
             0.2222222222222222,
             "#7201a8"
            ],
            [
             0.3333333333333333,
             "#9c179e"
            ],
            [
             0.4444444444444444,
             "#bd3786"
            ],
            [
             0.5555555555555556,
             "#d8576b"
            ],
            [
             0.6666666666666666,
             "#ed7953"
            ],
            [
             0.7777777777777778,
             "#fb9f3a"
            ],
            [
             0.8888888888888888,
             "#fdca26"
            ],
            [
             1,
             "#f0f921"
            ]
           ],
           "sequentialminus": [
            [
             0,
             "#0d0887"
            ],
            [
             0.1111111111111111,
             "#46039f"
            ],
            [
             0.2222222222222222,
             "#7201a8"
            ],
            [
             0.3333333333333333,
             "#9c179e"
            ],
            [
             0.4444444444444444,
             "#bd3786"
            ],
            [
             0.5555555555555556,
             "#d8576b"
            ],
            [
             0.6666666666666666,
             "#ed7953"
            ],
            [
             0.7777777777777778,
             "#fb9f3a"
            ],
            [
             0.8888888888888888,
             "#fdca26"
            ],
            [
             1,
             "#f0f921"
            ]
           ]
          },
          "colorway": [
           "#636efa",
           "#EF553B",
           "#00cc96",
           "#ab63fa",
           "#FFA15A",
           "#19d3f3",
           "#FF6692",
           "#B6E880",
           "#FF97FF",
           "#FECB52"
          ],
          "font": {
           "color": "#2a3f5f"
          },
          "geo": {
           "bgcolor": "white",
           "lakecolor": "white",
           "landcolor": "white",
           "showlakes": true,
           "showland": true,
           "subunitcolor": "#C8D4E3"
          },
          "hoverlabel": {
           "align": "left"
          },
          "hovermode": "closest",
          "mapbox": {
           "style": "light"
          },
          "paper_bgcolor": "white",
          "plot_bgcolor": "white",
          "polar": {
           "angularaxis": {
            "gridcolor": "#EBF0F8",
            "linecolor": "#EBF0F8",
            "ticks": ""
           },
           "bgcolor": "white",
           "radialaxis": {
            "gridcolor": "#EBF0F8",
            "linecolor": "#EBF0F8",
            "ticks": ""
           }
          },
          "scene": {
           "xaxis": {
            "backgroundcolor": "white",
            "gridcolor": "#DFE8F3",
            "gridwidth": 2,
            "linecolor": "#EBF0F8",
            "showbackground": true,
            "ticks": "",
            "zerolinecolor": "#EBF0F8"
           },
           "yaxis": {
            "backgroundcolor": "white",
            "gridcolor": "#DFE8F3",
            "gridwidth": 2,
            "linecolor": "#EBF0F8",
            "showbackground": true,
            "ticks": "",
            "zerolinecolor": "#EBF0F8"
           },
           "zaxis": {
            "backgroundcolor": "white",
            "gridcolor": "#DFE8F3",
            "gridwidth": 2,
            "linecolor": "#EBF0F8",
            "showbackground": true,
            "ticks": "",
            "zerolinecolor": "#EBF0F8"
           }
          },
          "shapedefaults": {
           "line": {
            "color": "#2a3f5f"
           }
          },
          "ternary": {
           "aaxis": {
            "gridcolor": "#DFE8F3",
            "linecolor": "#A2B1C6",
            "ticks": ""
           },
           "baxis": {
            "gridcolor": "#DFE8F3",
            "linecolor": "#A2B1C6",
            "ticks": ""
           },
           "bgcolor": "white",
           "caxis": {
            "gridcolor": "#DFE8F3",
            "linecolor": "#A2B1C6",
            "ticks": ""
           }
          },
          "title": {
           "x": 0.05
          },
          "xaxis": {
           "automargin": true,
           "gridcolor": "#EBF0F8",
           "linecolor": "#EBF0F8",
           "ticks": "",
           "title": {
            "standoff": 15
           },
           "zerolinecolor": "#EBF0F8",
           "zerolinewidth": 2
          },
          "yaxis": {
           "automargin": true,
           "gridcolor": "#EBF0F8",
           "linecolor": "#EBF0F8",
           "ticks": "",
           "title": {
            "standoff": 15
           },
           "zerolinecolor": "#EBF0F8",
           "zerolinewidth": 2
          }
         }
        },
        "title": {
         "text": "Comparaison des caractéristiques"
        }
       }
      }
     },
     "metadata": {},
     "output_type": "display_data"
    }
   ],
   "source": [
    "# Radar plot des caractéristiques\n",
    "def show_radar_plot(brand, battery, screen_size, ram, storage, rear_cam, front_cam):\n",
    "    fig = go.Figure()\n",
    "    \n",
    "    # Votre téléphone\n",
    "    fig.add_trace(go.Scatterpolar(\n",
    "        r=[battery/5000, screen_size/7, ram/8, storage/256, rear_cam/64, front_cam/32],\n",
    "        theta=['Batterie', 'Écran', 'RAM', 'Stockage', 'Cam. Arrière', 'Cam. Avant'],\n",
    "        fill='toself',\n",
    "        name='Votre téléphone'\n",
    "    ))\n",
    "    \n",
    "    # Moyenne de la marque\n",
    "    brand_mean = df[df['Brand'] == brand].mean(numeric_only=True)\n",
    "    fig.add_trace(go.Scatterpolar(\n",
    "        r=[\n",
    "            brand_mean['Battery capacity (mAh)']/5000,\n",
    "            brand_mean['Screen size (inches)']/7,\n",
    "            brand_mean['RAM (MB)']/8000,\n",
    "            brand_mean['Internal storage (GB)']/256,\n",
    "            brand_mean['Rear camera']/64,\n",
    "            brand_mean['Front camera']/32\n",
    "        ],\n",
    "        theta=['Batterie', 'Écran', 'RAM', 'Stockage', 'Cam. Arrière', 'Cam. Avant'],\n",
    "        fill='toself',\n",
    "        name=f'Moyenne {brand}'\n",
    "    ))\n",
    "    \n",
    "    fig.update_layout(\n",
    "        polar=dict(radialaxis=dict(visible=True, range=[0, 1.2])),\n",
    "        title='Comparaison des caractéristiques',\n",
    "        template='plotly_white'\n",
    "    )\n",
    "    fig.show()\n",
    "\n",
    "# Exemple d'utilisation\n",
    "show_radar_plot('Samsung', 4500, 6.5, 6, 128, 50, 16)"
   ]
  },
  {
   "cell_type": "markdown",
   "id": "65a8d3ea",
   "metadata": {},
   "source": [
    "# ## 5. Analyse des données"
   ]
  },
  {
   "cell_type": "code",
   "execution_count": 14,
   "id": "70dee818",
   "metadata": {},
   "outputs": [
    {
     "data": {
      "application/vnd.plotly.v1+json": {
       "config": {
        "plotlyServerURL": "https://plot.ly"
       },
       "data": [
        {
         "coloraxis": "coloraxis",
         "hovertemplate": "x: %{x}<br>y: %{y}<br>color: %{z}<extra></extra>",
         "name": "0",
         "texttemplate": "%{z}",
         "type": "heatmap",
         "x": [
          "Battery capacity (mAh)",
          "Screen size (inches)",
          "RAM (MB)",
          "Internal storage (GB)",
          "Rear camera",
          "Front camera",
          "Price",
          "Camera_Total",
          "RAM_GB",
          "Price_per_GB",
          "Is_Premium",
          "LogPrice"
         ],
         "xaxis": "x",
         "y": [
          "Battery capacity (mAh)",
          "Screen size (inches)",
          "RAM (MB)",
          "Internal storage (GB)",
          "Rear camera",
          "Front camera",
          "Price",
          "Camera_Total",
          "RAM_GB",
          "Price_per_GB",
          "Is_Premium",
          "LogPrice"
         ],
         "yaxis": "y",
         "z": {
          "bdata": "AAAAAAAA8D8btlESzb6ev8F6tRKmiZU/WqIQ/gjoqj/NQ1t7zXiZv+zxjs0doak/NcW+xZX0uz+iYt/enUqHv7h6tRKmiZU/5hkEi28UoT9pwckJrTubPx220sEV5L0/G7ZREs2+nr8AAAAAAADwP9HhQi9LwG0/p3xKdiorkL+kyv51yQdiPwgx54OqeJG/B6Z2pZKduj+9BD4+Yr1hvzDhQi9LwG0/xQO1comdnz8DYSM/sD2jP2Pepe7Ya7s/wXq1EqaJlT/R4UIvS8BtPwAAAAAAAPA/uC/DJghHpD/XYpb3qxKmPyEjUG9uZKM/Z7PwHLDmsT/mWLzZ/xyqP/z//////+8/l/z+ZgYZqz8MoRk9ZWC2PyW8Ts+6oa8/WqIQ/gjoqj+nfEp2KiuQv7gvwyYIR6Q/AAAAAAAA8D/WkJEKHhqJvwVPCa/qm52/RTeN1q/Z6D9dtIf3lYOTv6svwyYIR6Q/z0Xowmw26b+RfCp/GYqhv6eFRosyMug/zUNbe814mb+kyv51yQdiP9dilverEqY/1pCRCh4aib8AAAAAAADwP7LD/u/ShpY/z4wnz2Xa1z8vSkPitvnuP+BilverEqY/btXbnxeUzD9C+K3wnr+mP50aVORpw9k/7PGOzR2hqT8IMeeDqniRvyEjUG9uZKM/BU8Jr+qbnb+yw/7v0oaWPwAAAAAAAPA/dcB71IbHlr/pJ3Y5jWzRPyEjUG9uZKM/nOhqgGOZjT8pOddDyem3PzuxId3Dopm/NcW+xZX0uz8Hpnalkp26P2ez8Byw5rE/RTeN1q/Z6D/PjCfPZdrXP3XAe9SGx5a/AAAAAAAA8D+ct0ArppnWP2Kz8Byw5rE/r9DKv+uH27+u5rPiBNbEP+wkpJZNkO8/omLf3p1Kh7+9BD4+Yr1hv+ZYvNn/HKo/XbSH95WDk78vSkPitvnuP+kndjmNbNE/nLdAK6aZ1j8AAAAAAADwP+lYvNn/HKo/LghXLln4yz9/GWXsivOwP3jt0QvVZNg/uHq1EqaJlT8w4UIvS8BtP/z//////+8/qy/DJghHpD/gYpb3qxKmPyEjUG9uZKM/YrPwHLDmsT/pWLzZ/xyqPwAAAAAAAPA/mvz+ZgYZqz8OoRk9ZWC2Pxu8Ts+6oa8/5hkEi28UoT/FA7VyiZ2fP5f8/mYGGas/z0Xowmw26b9u1dufF5TMP5zoaoBjmY0/r9DKv+uH278uCFcuWfjLP5r8/mYGGas/AAAAAAAA8D/uJTTeIda8P32WPvOwOtq/acHJCa07mz8DYSM/sD2jPwyhGT1lYLY/kXwqfxmKob9C+K3wnr+mPyk510PJ6bc/ruaz4gTWxD9/GWXsivOwPw6hGT1lYLY/7iU03iHWvD8AAAAAAADwPzJ/HTKJzsM/HbbSwRXkvT9j3qXu2Gu7PyW8Ts+6oa8/p4VGizIy6D+dGlTkacPZPzuxId3Dopm/7CSklk2Q7z947dEL1WTYPxu8Ts+6oa8/fZY+87A62r8yfx0yic7DPwAAAAAAAPA/",
          "dtype": "f8",
          "shape": "12, 12"
         }
        }
       ],
       "layout": {
        "coloraxis": {
         "colorscale": [
          [
           0,
           "rgb(5,48,97)"
          ],
          [
           0.1,
           "rgb(33,102,172)"
          ],
          [
           0.2,
           "rgb(67,147,195)"
          ],
          [
           0.3,
           "rgb(146,197,222)"
          ],
          [
           0.4,
           "rgb(209,229,240)"
          ],
          [
           0.5,
           "rgb(247,247,247)"
          ],
          [
           0.6,
           "rgb(253,219,199)"
          ],
          [
           0.7,
           "rgb(244,165,130)"
          ],
          [
           0.8,
           "rgb(214,96,77)"
          ],
          [
           0.9,
           "rgb(178,24,43)"
          ],
          [
           1,
           "rgb(103,0,31)"
          ]
         ]
        },
        "margin": {
         "t": 60
        },
        "template": {
         "data": {
          "bar": [
           {
            "error_x": {
             "color": "#2a3f5f"
            },
            "error_y": {
             "color": "#2a3f5f"
            },
            "marker": {
             "line": {
              "color": "#E5ECF6",
              "width": 0.5
             },
             "pattern": {
              "fillmode": "overlay",
              "size": 10,
              "solidity": 0.2
             }
            },
            "type": "bar"
           }
          ],
          "barpolar": [
           {
            "marker": {
             "line": {
              "color": "#E5ECF6",
              "width": 0.5
             },
             "pattern": {
              "fillmode": "overlay",
              "size": 10,
              "solidity": 0.2
             }
            },
            "type": "barpolar"
           }
          ],
          "carpet": [
           {
            "aaxis": {
             "endlinecolor": "#2a3f5f",
             "gridcolor": "white",
             "linecolor": "white",
             "minorgridcolor": "white",
             "startlinecolor": "#2a3f5f"
            },
            "baxis": {
             "endlinecolor": "#2a3f5f",
             "gridcolor": "white",
             "linecolor": "white",
             "minorgridcolor": "white",
             "startlinecolor": "#2a3f5f"
            },
            "type": "carpet"
           }
          ],
          "choropleth": [
           {
            "colorbar": {
             "outlinewidth": 0,
             "ticks": ""
            },
            "type": "choropleth"
           }
          ],
          "contour": [
           {
            "colorbar": {
             "outlinewidth": 0,
             "ticks": ""
            },
            "colorscale": [
             [
              0,
              "#0d0887"
             ],
             [
              0.1111111111111111,
              "#46039f"
             ],
             [
              0.2222222222222222,
              "#7201a8"
             ],
             [
              0.3333333333333333,
              "#9c179e"
             ],
             [
              0.4444444444444444,
              "#bd3786"
             ],
             [
              0.5555555555555556,
              "#d8576b"
             ],
             [
              0.6666666666666666,
              "#ed7953"
             ],
             [
              0.7777777777777778,
              "#fb9f3a"
             ],
             [
              0.8888888888888888,
              "#fdca26"
             ],
             [
              1,
              "#f0f921"
             ]
            ],
            "type": "contour"
           }
          ],
          "contourcarpet": [
           {
            "colorbar": {
             "outlinewidth": 0,
             "ticks": ""
            },
            "type": "contourcarpet"
           }
          ],
          "heatmap": [
           {
            "colorbar": {
             "outlinewidth": 0,
             "ticks": ""
            },
            "colorscale": [
             [
              0,
              "#0d0887"
             ],
             [
              0.1111111111111111,
              "#46039f"
             ],
             [
              0.2222222222222222,
              "#7201a8"
             ],
             [
              0.3333333333333333,
              "#9c179e"
             ],
             [
              0.4444444444444444,
              "#bd3786"
             ],
             [
              0.5555555555555556,
              "#d8576b"
             ],
             [
              0.6666666666666666,
              "#ed7953"
             ],
             [
              0.7777777777777778,
              "#fb9f3a"
             ],
             [
              0.8888888888888888,
              "#fdca26"
             ],
             [
              1,
              "#f0f921"
             ]
            ],
            "type": "heatmap"
           }
          ],
          "histogram": [
           {
            "marker": {
             "pattern": {
              "fillmode": "overlay",
              "size": 10,
              "solidity": 0.2
             }
            },
            "type": "histogram"
           }
          ],
          "histogram2d": [
           {
            "colorbar": {
             "outlinewidth": 0,
             "ticks": ""
            },
            "colorscale": [
             [
              0,
              "#0d0887"
             ],
             [
              0.1111111111111111,
              "#46039f"
             ],
             [
              0.2222222222222222,
              "#7201a8"
             ],
             [
              0.3333333333333333,
              "#9c179e"
             ],
             [
              0.4444444444444444,
              "#bd3786"
             ],
             [
              0.5555555555555556,
              "#d8576b"
             ],
             [
              0.6666666666666666,
              "#ed7953"
             ],
             [
              0.7777777777777778,
              "#fb9f3a"
             ],
             [
              0.8888888888888888,
              "#fdca26"
             ],
             [
              1,
              "#f0f921"
             ]
            ],
            "type": "histogram2d"
           }
          ],
          "histogram2dcontour": [
           {
            "colorbar": {
             "outlinewidth": 0,
             "ticks": ""
            },
            "colorscale": [
             [
              0,
              "#0d0887"
             ],
             [
              0.1111111111111111,
              "#46039f"
             ],
             [
              0.2222222222222222,
              "#7201a8"
             ],
             [
              0.3333333333333333,
              "#9c179e"
             ],
             [
              0.4444444444444444,
              "#bd3786"
             ],
             [
              0.5555555555555556,
              "#d8576b"
             ],
             [
              0.6666666666666666,
              "#ed7953"
             ],
             [
              0.7777777777777778,
              "#fb9f3a"
             ],
             [
              0.8888888888888888,
              "#fdca26"
             ],
             [
              1,
              "#f0f921"
             ]
            ],
            "type": "histogram2dcontour"
           }
          ],
          "mesh3d": [
           {
            "colorbar": {
             "outlinewidth": 0,
             "ticks": ""
            },
            "type": "mesh3d"
           }
          ],
          "parcoords": [
           {
            "line": {
             "colorbar": {
              "outlinewidth": 0,
              "ticks": ""
             }
            },
            "type": "parcoords"
           }
          ],
          "pie": [
           {
            "automargin": true,
            "type": "pie"
           }
          ],
          "scatter": [
           {
            "fillpattern": {
             "fillmode": "overlay",
             "size": 10,
             "solidity": 0.2
            },
            "type": "scatter"
           }
          ],
          "scatter3d": [
           {
            "line": {
             "colorbar": {
              "outlinewidth": 0,
              "ticks": ""
             }
            },
            "marker": {
             "colorbar": {
              "outlinewidth": 0,
              "ticks": ""
             }
            },
            "type": "scatter3d"
           }
          ],
          "scattercarpet": [
           {
            "marker": {
             "colorbar": {
              "outlinewidth": 0,
              "ticks": ""
             }
            },
            "type": "scattercarpet"
           }
          ],
          "scattergeo": [
           {
            "marker": {
             "colorbar": {
              "outlinewidth": 0,
              "ticks": ""
             }
            },
            "type": "scattergeo"
           }
          ],
          "scattergl": [
           {
            "marker": {
             "colorbar": {
              "outlinewidth": 0,
              "ticks": ""
             }
            },
            "type": "scattergl"
           }
          ],
          "scattermap": [
           {
            "marker": {
             "colorbar": {
              "outlinewidth": 0,
              "ticks": ""
             }
            },
            "type": "scattermap"
           }
          ],
          "scattermapbox": [
           {
            "marker": {
             "colorbar": {
              "outlinewidth": 0,
              "ticks": ""
             }
            },
            "type": "scattermapbox"
           }
          ],
          "scatterpolar": [
           {
            "marker": {
             "colorbar": {
              "outlinewidth": 0,
              "ticks": ""
             }
            },
            "type": "scatterpolar"
           }
          ],
          "scatterpolargl": [
           {
            "marker": {
             "colorbar": {
              "outlinewidth": 0,
              "ticks": ""
             }
            },
            "type": "scatterpolargl"
           }
          ],
          "scatterternary": [
           {
            "marker": {
             "colorbar": {
              "outlinewidth": 0,
              "ticks": ""
             }
            },
            "type": "scatterternary"
           }
          ],
          "surface": [
           {
            "colorbar": {
             "outlinewidth": 0,
             "ticks": ""
            },
            "colorscale": [
             [
              0,
              "#0d0887"
             ],
             [
              0.1111111111111111,
              "#46039f"
             ],
             [
              0.2222222222222222,
              "#7201a8"
             ],
             [
              0.3333333333333333,
              "#9c179e"
             ],
             [
              0.4444444444444444,
              "#bd3786"
             ],
             [
              0.5555555555555556,
              "#d8576b"
             ],
             [
              0.6666666666666666,
              "#ed7953"
             ],
             [
              0.7777777777777778,
              "#fb9f3a"
             ],
             [
              0.8888888888888888,
              "#fdca26"
             ],
             [
              1,
              "#f0f921"
             ]
            ],
            "type": "surface"
           }
          ],
          "table": [
           {
            "cells": {
             "fill": {
              "color": "#EBF0F8"
             },
             "line": {
              "color": "white"
             }
            },
            "header": {
             "fill": {
              "color": "#C8D4E3"
             },
             "line": {
              "color": "white"
             }
            },
            "type": "table"
           }
          ]
         },
         "layout": {
          "annotationdefaults": {
           "arrowcolor": "#2a3f5f",
           "arrowhead": 0,
           "arrowwidth": 1
          },
          "autotypenumbers": "strict",
          "coloraxis": {
           "colorbar": {
            "outlinewidth": 0,
            "ticks": ""
           }
          },
          "colorscale": {
           "diverging": [
            [
             0,
             "#8e0152"
            ],
            [
             0.1,
             "#c51b7d"
            ],
            [
             0.2,
             "#de77ae"
            ],
            [
             0.3,
             "#f1b6da"
            ],
            [
             0.4,
             "#fde0ef"
            ],
            [
             0.5,
             "#f7f7f7"
            ],
            [
             0.6,
             "#e6f5d0"
            ],
            [
             0.7,
             "#b8e186"
            ],
            [
             0.8,
             "#7fbc41"
            ],
            [
             0.9,
             "#4d9221"
            ],
            [
             1,
             "#276419"
            ]
           ],
           "sequential": [
            [
             0,
             "#0d0887"
            ],
            [
             0.1111111111111111,
             "#46039f"
            ],
            [
             0.2222222222222222,
             "#7201a8"
            ],
            [
             0.3333333333333333,
             "#9c179e"
            ],
            [
             0.4444444444444444,
             "#bd3786"
            ],
            [
             0.5555555555555556,
             "#d8576b"
            ],
            [
             0.6666666666666666,
             "#ed7953"
            ],
            [
             0.7777777777777778,
             "#fb9f3a"
            ],
            [
             0.8888888888888888,
             "#fdca26"
            ],
            [
             1,
             "#f0f921"
            ]
           ],
           "sequentialminus": [
            [
             0,
             "#0d0887"
            ],
            [
             0.1111111111111111,
             "#46039f"
            ],
            [
             0.2222222222222222,
             "#7201a8"
            ],
            [
             0.3333333333333333,
             "#9c179e"
            ],
            [
             0.4444444444444444,
             "#bd3786"
            ],
            [
             0.5555555555555556,
             "#d8576b"
            ],
            [
             0.6666666666666666,
             "#ed7953"
            ],
            [
             0.7777777777777778,
             "#fb9f3a"
            ],
            [
             0.8888888888888888,
             "#fdca26"
            ],
            [
             1,
             "#f0f921"
            ]
           ]
          },
          "colorway": [
           "#636efa",
           "#EF553B",
           "#00cc96",
           "#ab63fa",
           "#FFA15A",
           "#19d3f3",
           "#FF6692",
           "#B6E880",
           "#FF97FF",
           "#FECB52"
          ],
          "font": {
           "color": "#2a3f5f"
          },
          "geo": {
           "bgcolor": "white",
           "lakecolor": "white",
           "landcolor": "#E5ECF6",
           "showlakes": true,
           "showland": true,
           "subunitcolor": "white"
          },
          "hoverlabel": {
           "align": "left"
          },
          "hovermode": "closest",
          "mapbox": {
           "style": "light"
          },
          "paper_bgcolor": "white",
          "plot_bgcolor": "#E5ECF6",
          "polar": {
           "angularaxis": {
            "gridcolor": "white",
            "linecolor": "white",
            "ticks": ""
           },
           "bgcolor": "#E5ECF6",
           "radialaxis": {
            "gridcolor": "white",
            "linecolor": "white",
            "ticks": ""
           }
          },
          "scene": {
           "xaxis": {
            "backgroundcolor": "#E5ECF6",
            "gridcolor": "white",
            "gridwidth": 2,
            "linecolor": "white",
            "showbackground": true,
            "ticks": "",
            "zerolinecolor": "white"
           },
           "yaxis": {
            "backgroundcolor": "#E5ECF6",
            "gridcolor": "white",
            "gridwidth": 2,
            "linecolor": "white",
            "showbackground": true,
            "ticks": "",
            "zerolinecolor": "white"
           },
           "zaxis": {
            "backgroundcolor": "#E5ECF6",
            "gridcolor": "white",
            "gridwidth": 2,
            "linecolor": "white",
            "showbackground": true,
            "ticks": "",
            "zerolinecolor": "white"
           }
          },
          "shapedefaults": {
           "line": {
            "color": "#2a3f5f"
           }
          },
          "ternary": {
           "aaxis": {
            "gridcolor": "white",
            "linecolor": "white",
            "ticks": ""
           },
           "baxis": {
            "gridcolor": "white",
            "linecolor": "white",
            "ticks": ""
           },
           "bgcolor": "#E5ECF6",
           "caxis": {
            "gridcolor": "white",
            "linecolor": "white",
            "ticks": ""
           }
          },
          "title": {
           "x": 0.05
          },
          "xaxis": {
           "automargin": true,
           "gridcolor": "white",
           "linecolor": "white",
           "ticks": "",
           "title": {
            "standoff": 15
           },
           "zerolinecolor": "white",
           "zerolinewidth": 2
          },
          "yaxis": {
           "automargin": true,
           "gridcolor": "white",
           "linecolor": "white",
           "ticks": "",
           "title": {
            "standoff": 15
           },
           "zerolinecolor": "white",
           "zerolinewidth": 2
          }
         }
        },
        "title": {
         "text": "Corrélations entre caractéristiques"
        },
        "xaxis": {
         "anchor": "y",
         "domain": [
          0,
          1
         ]
        },
        "yaxis": {
         "anchor": "x",
         "autorange": "reversed",
         "domain": [
          0,
          1
         ]
        }
       }
      }
     },
     "metadata": {},
     "output_type": "display_data"
    },
    {
     "data": {
      "application/vnd.plotly.v1+json": {
       "config": {
        "plotlyServerURL": "https://plot.ly"
       },
       "data": [
        {
         "bingroup": "x",
         "hovertemplate": "Price=%{x}<br>count=%{y}<extra></extra>",
         "legendgroup": "",
         "marker": {
          "color": "#636efa",
          "pattern": {
           "shape": ""
          }
         },
         "name": "",
         "nbinsx": 30,
         "orientation": "v",
         "showlegend": false,
         "type": "histogram",
         "x": {
          "bdata": "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",
          "dtype": "f8"
         },
         "xaxis": "x",
         "yaxis": "y"
        }
       ],
       "layout": {
        "barmode": "relative",
        "legend": {
         "tracegroupgap": 0
        },
        "template": {
         "data": {
          "bar": [
           {
            "error_x": {
             "color": "#2a3f5f"
            },
            "error_y": {
             "color": "#2a3f5f"
            },
            "marker": {
             "line": {
              "color": "#E5ECF6",
              "width": 0.5
             },
             "pattern": {
              "fillmode": "overlay",
              "size": 10,
              "solidity": 0.2
             }
            },
            "type": "bar"
           }
          ],
          "barpolar": [
           {
            "marker": {
             "line": {
              "color": "#E5ECF6",
              "width": 0.5
             },
             "pattern": {
              "fillmode": "overlay",
              "size": 10,
              "solidity": 0.2
             }
            },
            "type": "barpolar"
           }
          ],
          "carpet": [
           {
            "aaxis": {
             "endlinecolor": "#2a3f5f",
             "gridcolor": "white",
             "linecolor": "white",
             "minorgridcolor": "white",
             "startlinecolor": "#2a3f5f"
            },
            "baxis": {
             "endlinecolor": "#2a3f5f",
             "gridcolor": "white",
             "linecolor": "white",
             "minorgridcolor": "white",
             "startlinecolor": "#2a3f5f"
            },
            "type": "carpet"
           }
          ],
          "choropleth": [
           {
            "colorbar": {
             "outlinewidth": 0,
             "ticks": ""
            },
            "type": "choropleth"
           }
          ],
          "contour": [
           {
            "colorbar": {
             "outlinewidth": 0,
             "ticks": ""
            },
            "colorscale": [
             [
              0,
              "#0d0887"
             ],
             [
              0.1111111111111111,
              "#46039f"
             ],
             [
              0.2222222222222222,
              "#7201a8"
             ],
             [
              0.3333333333333333,
              "#9c179e"
             ],
             [
              0.4444444444444444,
              "#bd3786"
             ],
             [
              0.5555555555555556,
              "#d8576b"
             ],
             [
              0.6666666666666666,
              "#ed7953"
             ],
             [
              0.7777777777777778,
              "#fb9f3a"
             ],
             [
              0.8888888888888888,
              "#fdca26"
             ],
             [
              1,
              "#f0f921"
             ]
            ],
            "type": "contour"
           }
          ],
          "contourcarpet": [
           {
            "colorbar": {
             "outlinewidth": 0,
             "ticks": ""
            },
            "type": "contourcarpet"
           }
          ],
          "heatmap": [
           {
            "colorbar": {
             "outlinewidth": 0,
             "ticks": ""
            },
            "colorscale": [
             [
              0,
              "#0d0887"
             ],
             [
              0.1111111111111111,
              "#46039f"
             ],
             [
              0.2222222222222222,
              "#7201a8"
             ],
             [
              0.3333333333333333,
              "#9c179e"
             ],
             [
              0.4444444444444444,
              "#bd3786"
             ],
             [
              0.5555555555555556,
              "#d8576b"
             ],
             [
              0.6666666666666666,
              "#ed7953"
             ],
             [
              0.7777777777777778,
              "#fb9f3a"
             ],
             [
              0.8888888888888888,
              "#fdca26"
             ],
             [
              1,
              "#f0f921"
             ]
            ],
            "type": "heatmap"
           }
          ],
          "histogram": [
           {
            "marker": {
             "pattern": {
              "fillmode": "overlay",
              "size": 10,
              "solidity": 0.2
             }
            },
            "type": "histogram"
           }
          ],
          "histogram2d": [
           {
            "colorbar": {
             "outlinewidth": 0,
             "ticks": ""
            },
            "colorscale": [
             [
              0,
              "#0d0887"
             ],
             [
              0.1111111111111111,
              "#46039f"
             ],
             [
              0.2222222222222222,
              "#7201a8"
             ],
             [
              0.3333333333333333,
              "#9c179e"
             ],
             [
              0.4444444444444444,
              "#bd3786"
             ],
             [
              0.5555555555555556,
              "#d8576b"
             ],
             [
              0.6666666666666666,
              "#ed7953"
             ],
             [
              0.7777777777777778,
              "#fb9f3a"
             ],
             [
              0.8888888888888888,
              "#fdca26"
             ],
             [
              1,
              "#f0f921"
             ]
            ],
            "type": "histogram2d"
           }
          ],
          "histogram2dcontour": [
           {
            "colorbar": {
             "outlinewidth": 0,
             "ticks": ""
            },
            "colorscale": [
             [
              0,
              "#0d0887"
             ],
             [
              0.1111111111111111,
              "#46039f"
             ],
             [
              0.2222222222222222,
              "#7201a8"
             ],
             [
              0.3333333333333333,
              "#9c179e"
             ],
             [
              0.4444444444444444,
              "#bd3786"
             ],
             [
              0.5555555555555556,
              "#d8576b"
             ],
             [
              0.6666666666666666,
              "#ed7953"
             ],
             [
              0.7777777777777778,
              "#fb9f3a"
             ],
             [
              0.8888888888888888,
              "#fdca26"
             ],
             [
              1,
              "#f0f921"
             ]
            ],
            "type": "histogram2dcontour"
           }
          ],
          "mesh3d": [
           {
            "colorbar": {
             "outlinewidth": 0,
             "ticks": ""
            },
            "type": "mesh3d"
           }
          ],
          "parcoords": [
           {
            "line": {
             "colorbar": {
              "outlinewidth": 0,
              "ticks": ""
             }
            },
            "type": "parcoords"
           }
          ],
          "pie": [
           {
            "automargin": true,
            "type": "pie"
           }
          ],
          "scatter": [
           {
            "fillpattern": {
             "fillmode": "overlay",
             "size": 10,
             "solidity": 0.2
            },
            "type": "scatter"
           }
          ],
          "scatter3d": [
           {
            "line": {
             "colorbar": {
              "outlinewidth": 0,
              "ticks": ""
             }
            },
            "marker": {
             "colorbar": {
              "outlinewidth": 0,
              "ticks": ""
             }
            },
            "type": "scatter3d"
           }
          ],
          "scattercarpet": [
           {
            "marker": {
             "colorbar": {
              "outlinewidth": 0,
              "ticks": ""
             }
            },
            "type": "scattercarpet"
           }
          ],
          "scattergeo": [
           {
            "marker": {
             "colorbar": {
              "outlinewidth": 0,
              "ticks": ""
             }
            },
            "type": "scattergeo"
           }
          ],
          "scattergl": [
           {
            "marker": {
             "colorbar": {
              "outlinewidth": 0,
              "ticks": ""
             }
            },
            "type": "scattergl"
           }
          ],
          "scattermap": [
           {
            "marker": {
             "colorbar": {
              "outlinewidth": 0,
              "ticks": ""
             }
            },
            "type": "scattermap"
           }
          ],
          "scattermapbox": [
           {
            "marker": {
             "colorbar": {
              "outlinewidth": 0,
              "ticks": ""
             }
            },
            "type": "scattermapbox"
           }
          ],
          "scatterpolar": [
           {
            "marker": {
             "colorbar": {
              "outlinewidth": 0,
              "ticks": ""
             }
            },
            "type": "scatterpolar"
           }
          ],
          "scatterpolargl": [
           {
            "marker": {
             "colorbar": {
              "outlinewidth": 0,
              "ticks": ""
             }
            },
            "type": "scatterpolargl"
           }
          ],
          "scatterternary": [
           {
            "marker": {
             "colorbar": {
              "outlinewidth": 0,
              "ticks": ""
             }
            },
            "type": "scatterternary"
           }
          ],
          "surface": [
           {
            "colorbar": {
             "outlinewidth": 0,
             "ticks": ""
            },
            "colorscale": [
             [
              0,
              "#0d0887"
             ],
             [
              0.1111111111111111,
              "#46039f"
             ],
             [
              0.2222222222222222,
              "#7201a8"
             ],
             [
              0.3333333333333333,
              "#9c179e"
             ],
             [
              0.4444444444444444,
              "#bd3786"
             ],
             [
              0.5555555555555556,
              "#d8576b"
             ],
             [
              0.6666666666666666,
              "#ed7953"
             ],
             [
              0.7777777777777778,
              "#fb9f3a"
             ],
             [
              0.8888888888888888,
              "#fdca26"
             ],
             [
              1,
              "#f0f921"
             ]
            ],
            "type": "surface"
           }
          ],
          "table": [
           {
            "cells": {
             "fill": {
              "color": "#EBF0F8"
             },
             "line": {
              "color": "white"
             }
            },
            "header": {
             "fill": {
              "color": "#C8D4E3"
             },
             "line": {
              "color": "white"
             }
            },
            "type": "table"
           }
          ]
         },
         "layout": {
          "annotationdefaults": {
           "arrowcolor": "#2a3f5f",
           "arrowhead": 0,
           "arrowwidth": 1
          },
          "autotypenumbers": "strict",
          "coloraxis": {
           "colorbar": {
            "outlinewidth": 0,
            "ticks": ""
           }
          },
          "colorscale": {
           "diverging": [
            [
             0,
             "#8e0152"
            ],
            [
             0.1,
             "#c51b7d"
            ],
            [
             0.2,
             "#de77ae"
            ],
            [
             0.3,
             "#f1b6da"
            ],
            [
             0.4,
             "#fde0ef"
            ],
            [
             0.5,
             "#f7f7f7"
            ],
            [
             0.6,
             "#e6f5d0"
            ],
            [
             0.7,
             "#b8e186"
            ],
            [
             0.8,
             "#7fbc41"
            ],
            [
             0.9,
             "#4d9221"
            ],
            [
             1,
             "#276419"
            ]
           ],
           "sequential": [
            [
             0,
             "#0d0887"
            ],
            [
             0.1111111111111111,
             "#46039f"
            ],
            [
             0.2222222222222222,
             "#7201a8"
            ],
            [
             0.3333333333333333,
             "#9c179e"
            ],
            [
             0.4444444444444444,
             "#bd3786"
            ],
            [
             0.5555555555555556,
             "#d8576b"
            ],
            [
             0.6666666666666666,
             "#ed7953"
            ],
            [
             0.7777777777777778,
             "#fb9f3a"
            ],
            [
             0.8888888888888888,
             "#fdca26"
            ],
            [
             1,
             "#f0f921"
            ]
           ],
           "sequentialminus": [
            [
             0,
             "#0d0887"
            ],
            [
             0.1111111111111111,
             "#46039f"
            ],
            [
             0.2222222222222222,
             "#7201a8"
            ],
            [
             0.3333333333333333,
             "#9c179e"
            ],
            [
             0.4444444444444444,
             "#bd3786"
            ],
            [
             0.5555555555555556,
             "#d8576b"
            ],
            [
             0.6666666666666666,
             "#ed7953"
            ],
            [
             0.7777777777777778,
             "#fb9f3a"
            ],
            [
             0.8888888888888888,
             "#fdca26"
            ],
            [
             1,
             "#f0f921"
            ]
           ]
          },
          "colorway": [
           "#636efa",
           "#EF553B",
           "#00cc96",
           "#ab63fa",
           "#FFA15A",
           "#19d3f3",
           "#FF6692",
           "#B6E880",
           "#FF97FF",
           "#FECB52"
          ],
          "font": {
           "color": "#2a3f5f"
          },
          "geo": {
           "bgcolor": "white",
           "lakecolor": "white",
           "landcolor": "#E5ECF6",
           "showlakes": true,
           "showland": true,
           "subunitcolor": "white"
          },
          "hoverlabel": {
           "align": "left"
          },
          "hovermode": "closest",
          "mapbox": {
           "style": "light"
          },
          "paper_bgcolor": "white",
          "plot_bgcolor": "#E5ECF6",
          "polar": {
           "angularaxis": {
            "gridcolor": "white",
            "linecolor": "white",
            "ticks": ""
           },
           "bgcolor": "#E5ECF6",
           "radialaxis": {
            "gridcolor": "white",
            "linecolor": "white",
            "ticks": ""
           }
          },
          "scene": {
           "xaxis": {
            "backgroundcolor": "#E5ECF6",
            "gridcolor": "white",
            "gridwidth": 2,
            "linecolor": "white",
            "showbackground": true,
            "ticks": "",
            "zerolinecolor": "white"
           },
           "yaxis": {
            "backgroundcolor": "#E5ECF6",
            "gridcolor": "white",
            "gridwidth": 2,
            "linecolor": "white",
            "showbackground": true,
            "ticks": "",
            "zerolinecolor": "white"
           },
           "zaxis": {
            "backgroundcolor": "#E5ECF6",
            "gridcolor": "white",
            "gridwidth": 2,
            "linecolor": "white",
            "showbackground": true,
            "ticks": "",
            "zerolinecolor": "white"
           }
          },
          "shapedefaults": {
           "line": {
            "color": "#2a3f5f"
           }
          },
          "ternary": {
           "aaxis": {
            "gridcolor": "white",
            "linecolor": "white",
            "ticks": ""
           },
           "baxis": {
            "gridcolor": "white",
            "linecolor": "white",
            "ticks": ""
           },
           "bgcolor": "#E5ECF6",
           "caxis": {
            "gridcolor": "white",
            "linecolor": "white",
            "ticks": ""
           }
          },
          "title": {
           "x": 0.05
          },
          "xaxis": {
           "automargin": true,
           "gridcolor": "white",
           "linecolor": "white",
           "ticks": "",
           "title": {
            "standoff": 15
           },
           "zerolinecolor": "white",
           "zerolinewidth": 2
          },
          "yaxis": {
           "automargin": true,
           "gridcolor": "white",
           "linecolor": "white",
           "ticks": "",
           "title": {
            "standoff": 15
           },
           "zerolinecolor": "white",
           "zerolinewidth": 2
          }
         }
        },
        "title": {
         "text": "Distribution des prix"
        },
        "xaxis": {
         "anchor": "y",
         "domain": [
          0,
          1
         ],
         "title": {
          "text": "Price"
         }
        },
        "yaxis": {
         "anchor": "x",
         "domain": [
          0,
          1
         ],
         "title": {
          "text": "count"
         }
        }
       }
      }
     },
     "metadata": {},
     "output_type": "display_data"
    }
   ],
   "source": [
    "# Heatmap des corrélations\n",
    "corr = df.select_dtypes(include=np.number).corr()\n",
    "fig = px.imshow(corr, text_auto=True, aspect=\"auto\", color_continuous_scale='RdBu_r')\n",
    "fig.update_layout(title='Corrélations entre caractéristiques')\n",
    "fig.show()\n",
    "\n",
    "# Distribution des prix\n",
    "fig = px.histogram(df, x='Price', nbins=30, title='Distribution des prix')\n",
    "fig.show()"
   ]
  }
 ],
 "metadata": {
  "kernelspec": {
   "display_name": "Python 3",
   "language": "python",
   "name": "python3"
  },
  "language_info": {
   "codemirror_mode": {
    "name": "ipython",
    "version": 3
   },
   "file_extension": ".py",
   "mimetype": "text/x-python",
   "name": "python",
   "nbconvert_exporter": "python",
   "pygments_lexer": "ipython3",
   "version": "3.12.9"
  }
 },
 "nbformat": 4,
 "nbformat_minor": 5
}
